{
 "cells": [
  {
   "cell_type": "code",
   "execution_count": null,
   "metadata": {
    "scrolled": false
   },
   "outputs": [],
   "source": [
    "from bs4 import BeautifulSoup\n",
    "import urllib2\n",
    "\n",
    "webpage = urllib2.urlopen('https://www.zocdoc.com/search?address=New%20York%2C%20NY%2010027&insurance_carrier=1358&day_filter=AnyDay&gender=-1&language=-1&offset=0&insurance_plan=16150&reason_visit=75&after_5pm=false&before_10am=false&sees_children=false&sort_type=Default&dr_specialty=153&ip=160.39.9.117')\n",
    "soup = BeautifulSoup(webpage,'html.parser')\n",
    "for anchor in soup.find_all('a'):\n",
    "    print(anchor.get('href', '/'))"
   ]
  },
  {
   "cell_type": "code",
   "execution_count": null,
   "metadata": {
    "scrolled": false
   },
   "outputs": [],
   "source": [
    "# print(soup.prettify())\n"
   ]
  },
  {
   "cell_type": "code",
   "execution_count": 96,
   "metadata": {
    "collapsed": true
   },
   "outputs": [],
   "source": [
    "container=soup.find_all(\"div\", class_=\"js-search-prof-list\")[0]"
   ]
  },
  {
   "cell_type": "code",
   "execution_count": 112,
   "metadata": {
    "scrolled": true
   },
   "outputs": [
    {
     "data": {
      "text/plain": [
       "[]"
      ]
     },
     "execution_count": 112,
     "metadata": {},
     "output_type": "execute_result"
    }
   ],
   "source": [
    "container.find_all(\"a\", class_=\"js-doc-name\")"
   ]
  },
  {
   "cell_type": "code",
   "execution_count": 118,
   "metadata": {},
   "outputs": [],
   "source": [
    "names=container.find_all(\"a\", class_=\"ch-prof-link\")"
   ]
  },
  {
   "cell_type": "code",
   "execution_count": 114,
   "metadata": {},
   "outputs": [],
   "source": [
    "# container=soup.find_all(\"div\", class_=\"js-search-prof-list\")\n"
   ]
  },
  {
   "cell_type": "code",
   "execution_count": 130,
   "metadata": {},
   "outputs": [
    {
     "name": "stdout",
     "output_type": "stream",
     "text": [
      "Dr. Bernard Schayes, MD\n",
      "Dr. Keri Peterson, MD\n",
      "Dr. Socrates Kangadis, MD\n",
      "Dr. Kamal Ramani, MD\n",
      "Dr. Francesco Passarelli, MD\n",
      "Yuliya Boruch, CNM, NP, MN\n",
      "Hyosun Song, NP\n",
      "Dr. Russell Laudon, MD\n",
      "Dr. Ariel Nassim, DO\n",
      "Dr. Giovanni Marciano, DO\n"
     ]
    }
   ],
   "source": [
    "for name in names:\n",
    "    print name.getText().strip().replace(\"\\n\",\"\").replace(\"  \",\"\")"
   ]
  },
  {
   "cell_type": "code",
   "execution_count": 146,
   "metadata": {
    "collapsed": true
   },
   "outputs": [],
   "source": [
    "container=soup.find_all(\"div\", class_=\"js-search-prof-list\")[0]"
   ]
  },
  {
   "cell_type": "code",
   "execution_count": 180,
   "metadata": {},
   "outputs": [],
   "source": [
    "ratings=container.find_all(\"div\", class_=\"ch-prof-row-rating\")"
   ]
  },
  {
   "cell_type": "code",
   "execution_count": 189,
   "metadata": {},
   "outputs": [
    {
     "name": "stdout",
     "output_type": "stream",
     "text": [
      "5.0\n",
      "4.5\n",
      "5.0\n",
      "5.0\n",
      "5.0\n",
      "5.0\n",
      "4.5\n",
      "4.5\n",
      "5.0\n",
      "5.0\n"
     ]
    }
   ],
   "source": [
    "for rating in ratings:\n",
    "    # print str(rating)\n",
    "    # print(\"......\")\n",
    "    regex = r\"\\d_\\d\"\n",
    "    #matches = re.finditer(regex, str(rating))\n",
    "    #print match.gro\n",
    "    res = re.findall(regex,str(rating))[0]\n",
    "    num = float(res.replace(\"_\",\".\"))\n",
    "    print num\n",
    "\n",
    "    \n",
    "    "
   ]
  },
  {
   "cell_type": "code",
   "execution_count": null,
   "metadata": {
    "collapsed": true
   },
   "outputs": [],
   "source": []
  },
  {
   "cell_type": "code",
   "execution_count": null,
   "metadata": {
    "collapsed": true
   },
   "outputs": [],
   "source": []
  },
  {
   "cell_type": "code",
   "execution_count": null,
   "metadata": {
    "collapsed": true
   },
   "outputs": [],
   "source": []
  }
 ],
 "metadata": {
  "kernelspec": {
   "display_name": "env",
   "language": "python",
   "name": "env"
  },
  "language_info": {
   "codemirror_mode": {
    "name": "ipython",
    "version": 3
   },
   "file_extension": ".py",
   "mimetype": "text/x-python",
   "name": "python",
   "nbconvert_exporter": "python",
   "pygments_lexer": "ipython3",
   "version": "3.6.4"
  }
 },
 "nbformat": 4,
 "nbformat_minor": 2
}
