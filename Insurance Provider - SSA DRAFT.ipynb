{
 "cells": [
  {
   "cell_type": "code",
   "execution_count": null,
   "metadata": {
    "collapsed": true
   },
   "outputs": [],
   "source": [
    "import bs4\n",
    "import urllib.request\n",
    "import requests"
   ]
  },
  {
   "cell_type": "code",
   "execution_count": 103,
   "metadata": {},
   "outputs": [
    {
     "name": "stdout",
     "output_type": "stream",
     "text": [
      "Who is your insurance provider?Aetna\n",
      "Choice® POS II (Open Access)\n",
      "Choice POS II ( HealthFund)\n",
      "Choice® POS (Open Access)\n",
      "Select\n",
      "Choice POS ( HealthFund)\n",
      "Health Network Only (Open Access)\n",
      "Aexcel Plus Choice POS II\n",
      "Aexcel Choice POS II\n",
      "Signature Administrators (PPO)\n",
      "Health Network Option (Open Access)\n",
      "Basic HMO (available in CA only)\n",
      "Affordable Health Choices limited benefits insurance plan (SRC only)\n",
      "Value Network HMO (available in CA and NV only)\n",
      "Aexcel Elect Choice EPO (Open Access)\n",
      "Aexcel Managed Choice POS (Open Access)\n",
      "HealthFund®  Health Network Only (Open Access)\n",
      "ActiveCare 1-HD\n",
      "HealthFund®  Health Network Option (Open Access)\n",
      "Aexcel PPO\n",
      "Aexcel Choice POS II ( HealthFund)\n",
      "HealthFund HMO (available in CA only)\n",
      "Aexcel Plus Choice POS II ( HealthFund)\n",
      "Aexcel  Select (Open Access)\n",
      "ActiveCare Select\n",
      "Aexcel Open Access Managed Choice POS (HealthFund)\n",
      "ActiveCare 2\n",
      "Aexcel Open Access  Select ( HealthFund)\n",
      "Aexcel Plus PPO\n",
      "Choice POS II on the Altius Network\n",
      "Aexcel Elect Choice EPO\n",
      "Aexcel Plus  Select (Open Access)\n",
      "Health Network Only (Open Access) on the Altius Network\n",
      "DC Bronze, Silver and Gold HMO\n",
      "Aexcel Plus  Select\n",
      "Aexcel Managed Choice POS\n",
      "Aexcel PPO ( HealthFund)\n",
      "AZ  Whole Health - Banner Health Network\n",
      "Aexcel Plus Managed Choice POS (Open Access)\n",
      "Aexcel  Select\n",
      "Aexcel Open Access Elect Choice ( HealthFund)\n",
      "Aexcel Plus Open Access  Select ( HealthFund)\n",
      "Health Network Option (Open Access) on the Altius Network\n",
      "Aexcel Plus Elect Choice EPO (Open Access)\n",
      "Aexcel Plus PPO ( HealthFund)\n",
      "Aexcel Plus Open Access Managed Choice POS (HealthFund)\n",
      "DC Bronze, Silver and Gold OAMC\n",
      "Bronze HNOption\n",
      "Freedom 10\n",
      "Gold HNOption\n",
      "Aexcel Plus Elect Choice EPO\n",
      "Freedom 15\n",
      "Aexcel Plus Managed Choice POS\n",
      "DC Bronze, Silver and Gold HNOnly\n",
      "Aexcel Plus Open Access Elect Choice ( HealthFund)\n",
      "AZ  Whole Health - Arizona Care Network\n",
      "AK Silver $10 Copay PD\n",
      "Freedom 2035\n",
      "AK Bronze $20 Copay PD\n",
      "AZ  Leap - Banner Health Network\n",
      "Freedom 2030\n",
      "Leap Basic - Banner\n",
      "AZ Banner Health Network Bronze $20 Copay PD\n",
      "AK Bronze Ded. Only HSA PD\n",
      "Freedom 1525\n",
      "AZ Banner Health Network Silver $10 Copay PD\n",
      "AK Silver $5 Copay 2750 PD\n",
      "AZ Banner Health Network Bronze HSA PD\n",
      "AZ Banner Health Network Gold $5 Copay PD\n",
      "AZ Marketplace:  Advantage 5750 PD\n",
      "AZ Marketplace: Banner Health Network Catastrophic 100%\n",
      "AZ Marketplace: Banner Health Network Gold $5 Copay\n",
      "AZ  Leap - Banner Health Network\n",
      "AZ Marketplace: Banner Health Network Bronze $20 Copay\n",
      "AZ Marketplace: Banner Health Network Silver $10 Copay\n",
      "AK Catastrophic 100% PD\n",
      "AZ Banner Health Network Catastrophic 100% PD\n",
      "Cornell Program for Healthy Living\n",
      "Weill Cornell Medicine PPO\n",
      "Health Savings Account\n",
      "Leap Everyday\n",
      "NY Tri-State EPO\n",
      "Silver $15 Copay $5500 HNOnly\n",
      "Whole Health - Mount Sinai Health Partners\n",
      "AlaskaCare - Employee\n",
      "AlaskaCare - Employee/Retiree - All Other States\n",
      "AlaskaCare - Retiree Defined Contribution Plan\n",
      "AlaskaCare - Retiree Legacy Plan\n",
      "AlaskaCare Health Plans\n",
      "Auto\n",
      "AZ Banner Health Network Silver $5 Copay 2750 PD\n"
     ]
    }
   ],
   "source": [
    "def main():\n",
    "    loc = 'https://api.zocdoc.com/directory/v1/insurances/autocomplete?text=aetna&insurance_type=health&directory_id=-1'\n",
    "    r = requests.get(loc)\n",
    "    insurance_providers = r.json()\n",
    "\n",
    "def lookup():\n",
    "    insurance = input(\"Who is your insurance provider?\")\n",
    "    for item in insurance_providers:\n",
    "        if item['carrier_name'] == insurance:\n",
    "            if item[\"plan_id\"] != None:\n",
    "                print(item['plan_name'])\n",
    "                \n",
    "lookup()\n",
    "main()\n",
    "\n",
    "#need to show only three results\n",
    "#show top 3 results in terms of 'rank' (what is the difference between rank and score?)"
   ]
  },
  {
   "cell_type": "code",
   "execution_count": null,
   "metadata": {},
   "outputs": [],
   "source": [
    "def lookup():\n",
    "    insurance = input(\"Who is your insurance provider?\")\n",
    "    for item in insurance_providers:\n",
    "        if item['carrier_name'] == insurance:\n",
    "            if item[\"plan_id\"] != None:\n",
    "                top_plans: filter(insurance_provider[rank])\n",
    "                print(item['plan_name'])"
   ]
  },
  {
   "cell_type": "code",
   "execution_count": null,
   "metadata": {},
   "outputs": [],
   "source": [
    "lookup()"
   ]
  },
  {
   "cell_type": "markdown",
   "metadata": {},
   "source": [
    "# Goal \n",
    "## Two functions:\n",
    "\n",
    "### 1- First function \n",
    "Given string \"STR\" \n",
    "Find the insurance provider carrier_id \n",
    "\n",
    "### 2- Second function\n",
    "Given carrier_id \"300 e.g. \n",
    "Find top three insruance plans\n",
    "\n",
    "--\n",
    "Extension: jsonviewer\n",
    "Write a funcion that takes a string as input (plan id) and returns a list of carriers.\n",
    "It should link that plan with its correspondent plan id.\n",
    "It should link the carrier with its correspondent carrier id.\n",
    "What is your insurance provider\n",
    "what is your plan name\n",
    "Run the code\n",
    "Return insurance provider with the list of all the plans associated with that insurance provider\n",
    "insurance_providers\n",
    "\n",
    "\n",
    "for item in insurance_providers:\n",
    "    if item['carrier_name'] == \"Aetna\":\n",
    "        print(item['plan_name'])\n",
    "        \n",
    "#[item for item in insurance_providers if item['plan_id'] == 2235]"
   ]
  },
  {
   "cell_type": "code",
   "execution_count": 102,
   "metadata": {},
   "outputs": [
    {
     "data": {
      "text/plain": [
       "['Choice® POS II (Open Access)',\n",
       " 'Choice POS II ( HealthFund)',\n",
       " 'Choice® POS (Open Access)']"
      ]
     },
     "execution_count": 102,
     "metadata": {},
     "output_type": "execute_result"
    }
   ],
   "source": [
    "#BY GILAD\n",
    "\n",
    "filtered_insurance_providers = list(filter(lambda x: x[\"carrier_id\"] == 300 and x[\"plan_id\"] != None, insurance_providers))\n",
    "# todo: sort by \"rank\"\n",
    "top_three = filtered_insurance_providers[:3]\n",
    "plan_names = list(map(lambda x: x[\"plan_name\"], top_three))\n",
    "plan_names"
   ]
  }
 ],
 "metadata": {
  "kernelspec": {
   "display_name": "Python 3",
   "language": "python",
   "name": "python3"
  },
  "language_info": {
   "codemirror_mode": {
    "name": "ipython",
    "version": 3
   },
   "file_extension": ".py",
   "mimetype": "text/x-python",
   "name": "python",
   "nbconvert_exporter": "python",
   "pygments_lexer": "ipython3",
   "version": "3.6.1"
  }
 },
 "nbformat": 4,
 "nbformat_minor": 2
}
