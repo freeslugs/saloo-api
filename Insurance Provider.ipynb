{
 "cells": [
  {
   "cell_type": "code",
   "execution_count": 1,
   "metadata": {
    "collapsed": true
   },
   "outputs": [],
   "source": [
    "import bs4\n",
    "import urllib.request"
   ]
  },
  {
   "cell_type": "markdown",
   "metadata": {},
   "source": [
    "Extension: jsonviewer\n",
    "\n",
    "Write a funcion that takes a string as input (plan id) and returns a list of carriers.\n",
    "\n",
    "It should link that plan with its correspondent plan id.\n",
    "It should link the carrier with its correspondent carrier id.\n",
    "\n",
    "What is your insurance provider\n",
    "what is your plan name\n",
    "Run the code\n",
    "Return insurance provider with the list of all the plans associated with that insurance provider"
   ]
  },
  {
   "cell_type": "code",
   "execution_count": 2,
   "metadata": {
    "collapsed": true
   },
   "outputs": [],
   "source": [
    "loc = 'https://api.zocdoc.com/directory/v1/insurances/autocomplete?text=aetna&insurance_type=health&directory_id=-1'"
   ]
  },
  {
   "cell_type": "code",
   "execution_count": null,
   "metadata": {
    "collapsed": true
   },
   "outputs": [],
   "source": [
    "raw_html = open('contrived.html').read()"
   ]
  },
  {
   "cell_type": "code",
   "execution_count": 3,
   "metadata": {
    "collapsed": true
   },
   "outputs": [],
   "source": [
    "#create the page object using urllib\n",
    "page = urllib.request.urlopen(loc)"
   ]
  },
  {
   "cell_type": "code",
   "execution_count": 4,
   "metadata": {
    "collapsed": true
   },
   "outputs": [],
   "source": [
    "#create the soup object\n",
    "soup = bs4.BeautifulSoup(page, 'html.parser')"
   ]
  },
  {
   "cell_type": "code",
   "execution_count": 13,
   "metadata": {},
   "outputs": [
    {
     "data": {
      "text/plain": [
       "[{\"score\":11.732793,\"plan_id\":null,\"plan_name\":null,\"carrier_id\":300,\"carrier_name\":\"Aetna\",\"rank\":11759121.387492},{\"score\":1.1487982,\"plan_id\":2235,\"plan_name\":\"Choice速 POS II (Open Access)\",\"carrier_id\":300,\"carrier_name\":\"Aetna\",\"rank\":295660.44874300004},{\"score\":1.1487982,\"plan_id\":2763,\"plan_name\":\"Choice POS II ( HealthFund)\",\"carrier_id\":300,\"carrier_name\":\"Aetna\",\"rank\":128265.6166264},{\"score\":1.1487982,\"plan_id\":2234,\"plan_name\":\"Choice速 POS (Open Access)\",\"carrier_id\":300,\"carrier_name\":\"Aetna\",\"rank\":83364.83897940001},{\"score\":1.1487982,\"plan_id\":2222,\"plan_name\":\"Select\",\"carrier_id\":300,\"carrier_name\":\"Aetna\",\"rank\":38445.6805612},{\"score\":1.1487982,\"plan_id\":3829,\"plan_name\":\"Choice POS ( HealthFund)\",\"carrier_id\":300,\"carrier_name\":\"Aetna\",\"rank\":17634.05237},{\"score\":1.1487982,\"plan_id\":2236,\"plan_name\":\"Health Network Only (Open Access)\",\"carrier_id\":300,\"carrier_name\":\"Aetna\",\"rank\":15254.8912978},{\"score\":1.1487982,\"plan_id\":3818,\"plan_name\":\"Aexcel Plus Choice POS II\",\"carrier_id\":300,\"carrier_name\":\"Aetna\",\"rank\":9742.9575342},{\"score\":1.1487982,\"plan_id\":3805,\"plan_name\":\"Aexcel Choice POS II\",\"carrier_id\":300,\"carrier_name\":\"Aetna\",\"rank\":9273.099070400001},{\"score\":1.1487982,\"plan_id\":3762,\"plan_name\":\"Signature Administrators (PPO)\",\"carrier_id\":300,\"carrier_name\":\"Aetna\",\"rank\":8985.8995204},{\"score\":1.1487982,\"plan_id\":2237,\"plan_name\":\"Health Network Option (Open Access)\",\"carrier_id\":300,\"carrier_name\":\"Aetna\",\"rank\":8796.347817400001},{\"score\":1.1487982,\"plan_id\":8252,\"plan_name\":\"Basic HMO (available in CA only)\",\"carrier_id\":300,\"carrier_name\":\"Aetna\",\"rank\":6683.7079276},{\"score\":5.9189205,\"plan_id\":null,\"plan_name\":null,\"carrier_id\":1298,\"carrier_name\":\"Aetna Better Health\",\"rank\":4599.001228499999},{\"score\":3.4145176,\"plan_id\":5540,\"plan_name\":\"Aetna Signature Administrators PPO\",\"carrier_id\":335,\"carrier_name\":\"Assurant Health\",\"rank\":4414.9712567999995},{\"score\":1.1487982,\"plan_id\":6885,\"plan_name\":\"Affordable Health Choices limited benefits insurance plan (SRC only)\",\"carrier_id\":300,\"carrier_name\":\"Aetna\",\"rank\":3526.8104740000003},{\"score\":1.1487982,\"plan_id\":2223,\"plan_name\":\"Value Network HMO (available in CA and NV only)\",\"carrier_id\":300,\"carrier_name\":\"Aetna\",\"rank\":3069.5887904},{\"score\":1.1487982,\"plan_id\":3808,\"plan_name\":\"Aexcel Elect Choice EPO (Open Access)\",\"carrier_id\":300,\"carrier_name\":\"Aetna\",\"rank\":2878.8882892},{\"score\":1.1487982,\"plan_id\":3810,\"plan_name\":\"Aexcel Managed Choice POS (Open Access)\",\"carrier_id\":300,\"carrier_name\":\"Aetna\",\"rank\":2422.8154038000002},{\"score\":1.1487982,\"plan_id\":2243,\"plan_name\":\"HealthFund速  Health Network Only (Open Access)\",\"carrier_id\":300,\"carrier_name\":\"Aetna\",\"rank\":2185.0141764},{\"score\":1.1487982,\"plan_id\":11571,\"plan_name\":\"ActiveCare 1-HD\",\"carrier_id\":300,\"carrier_name\":\"Aetna\",\"rank\":1982.8256932000002},{\"score\":1.1487982,\"plan_id\":2244,\"plan_name\":\"HealthFund速  Health Network Option (Open Access)\",\"carrier_id\":300,\"carrier_name\":\"Aetna\",\"rank\":1918.4929940000002},{\"score\":1.1487982,\"plan_id\":3814,\"plan_name\":\"Aexcel PPO\",\"carrier_id\":300,\"carrier_name\":\"Aetna\",\"rank\":1553.1751664},{\"score\":1.1487982,\"plan_id\":3806,\"plan_name\":\"Aexcel Choice POS II ( HealthFund)\",\"carrier_id\":300,\"carrier_name\":\"Aetna\",\"rank\":1526.7528078},{\"score\":1.1487982,\"plan_id\":2245,\"plan_name\":\"HealthFund HMO (available in CA only)\",\"carrier_id\":300,\"carrier_name\":\"Aetna\",\"rank\":1508.3720366000002},{\"score\":1.1487982,\"plan_id\":3819,\"plan_name\":\"Aexcel Plus Choice POS II ( HealthFund)\",\"carrier_id\":300,\"carrier_name\":\"Aetna\",\"rank\":1404.9801986000002},{\"score\":1.1487982,\"plan_id\":3804,\"plan_name\":\"Aexcel  Select (Open Access)\",\"carrier_id\":300,\"carrier_name\":\"Aetna\",\"rank\":1288.9515804},{\"score\":1.1487982,\"plan_id\":11573,\"plan_name\":\"ActiveCare Select\",\"carrier_id\":300,\"carrier_name\":\"Aetna\",\"rank\":920.1873582000001},{\"score\":1.1487982,\"plan_id\":3813,\"plan_name\":\"Aexcel Open Access Managed Choice POS (HealthFund)\",\"carrier_id\":300,\"carrier_name\":\"Aetna\",\"rank\":889.1698068000001},{\"score\":1.1487982,\"plan_id\":11572,\"plan_name\":\"ActiveCare 2\",\"carrier_id\":300,\"carrier_name\":\"Aetna\",\"rank\":839.7714842},{\"score\":6.785208,\"plan_id\":3507,\"plan_name\":\"Aetna\",\"carrier_id\":501,\"carrier_name\":\"Workers' Compensation\",\"rank\":821.010168},{\"score\":1.1487982,\"plan_id\":3811,\"plan_name\":\"Aexcel Open Access  Select ( HealthFund)\",\"carrier_id\":300,\"carrier_name\":\"Aetna\",\"rank\":723.742866},{\"score\":1.1487982,\"plan_id\":3827,\"plan_name\":\"Aexcel Plus PPO\",\"carrier_id\":300,\"carrier_name\":\"Aetna\",\"rank\":700.7669020000001},{\"score\":3.4145176,\"plan_id\":3197,\"plan_name\":\"Aetna POS II\",\"carrier_id\":445,\"carrier_name\":\"Mail Handlers Benefit Plan\",\"rank\":621.4422032},{\"score\":1.1487982,\"plan_id\":3263,\"plan_name\":\"Choice POS II on the Altius Network\",\"carrier_id\":300,\"carrier_name\":\"Aetna\",\"rank\":491.6856296},{\"score\":1.1487982,\"plan_id\":3807,\"plan_name\":\"Aexcel Elect Choice EPO\",\"carrier_id\":300,\"carrier_name\":\"Aetna\",\"rank\":458.37048180000005},{\"score\":3.4145176,\"plan_id\":5241,\"plan_name\":\"Aetna Medicare Advantage\",\"carrier_id\":717,\"carrier_name\":\"Banner Health\",\"rank\":419.9856648},{\"score\":1.1487982,\"plan_id\":3817,\"plan_name\":\"Aexcel Plus  Select (Open Access)\",\"carrier_id\":300,\"carrier_name\":\"Aetna\",\"rank\":389.4425898},{\"score\":1.1487982,\"plan_id\":4224,\"plan_name\":\"Health Network Only (Open Access) on the Altius Network\",\"carrier_id\":300,\"carrier_name\":\"Aetna\",\"rank\":376.80580960000003},{\"score\":1.1487982,\"plan_id\":9445,\"plan_name\":\"DC Bronze, Silver and Gold HMO\",\"carrier_id\":300,\"carrier_name\":\"Aetna\",\"rank\":363.0202312},{\"score\":1.1487982,\"plan_id\":3816,\"plan_name\":\"Aexcel Plus  Select\",\"carrier_id\":300,\"carrier_name\":\"Aetna\",\"rank\":346.9370564},{\"score\":1.1487982,\"plan_id\":3809,\"plan_name\":\"Aexcel Managed Choice POS\",\"carrier_id\":300,\"carrier_name\":\"Aetna\",\"rank\":342.3418636},{\"score\":1.1487982,\"plan_id\":3815,\"plan_name\":\"Aexcel PPO ( HealthFund)\",\"carrier_id\":300,\"carrier_name\":\"Aetna\",\"rank\":298.68753200000003},{\"score\":1.1487982,\"plan_id\":7748,\"plan_name\":\"AZ  Whole Health - Banner Health Network\",\"carrier_id\":300,\"carrier_name\":\"Aetna\",\"rank\":295.2411374},{\"score\":1.1487982,\"plan_id\":3823,\"plan_name\":\"Aexcel Plus Managed Choice POS (Open Access)\",\"carrier_id\":300,\"carrier_name\":\"Aetna\",\"rank\":280.3067608},{\"score\":1.1487982,\"plan_id\":3803,\"plan_name\":\"Aexcel  Select\",\"carrier_id\":300,\"carrier_name\":\"Aetna\",\"rank\":279.1579626},{\"score\":1.1487982,\"plan_id\":3812,\"plan_name\":\"Aexcel Open Access Elect Choice ( HealthFund)\",\"carrier_id\":300,\"carrier_name\":\"Aetna\",\"rank\":246.99161300000003},{\"score\":1.1487982,\"plan_id\":3824,\"plan_name\":\"Aexcel Plus Open Access  Select ( HealthFund)\",\"carrier_id\":300,\"carrier_name\":\"Aetna\",\"rank\":238.95002560000003},{\"score\":1.1487982,\"plan_id\":4574,\"plan_name\":\"Health Network Option (Open Access) on the Altius Network\",\"carrier_id\":300,\"carrier_name\":\"Aetna\",\"rank\":215.97406160000003},{\"score\":1.1487982,\"plan_id\":3821,\"plan_name\":\"Aexcel Plus Elect Choice EPO (Open Access)\",\"carrier_id\":300,\"carrier_name\":\"Aetna\",\"rank\":214.8252634},{\"score\":1.1487982,\"plan_id\":3828,\"plan_name\":\"Aexcel Plus PPO ( HealthFund)\",\"carrier_id\":300,\"carrier_name\":\"Aetna\",\"rank\":212.527667},{\"score\":1.1487982,\"plan_id\":3826,\"plan_name\":\"Aexcel Plus Open Access Managed Choice POS (HealthFund)\",\"carrier_id\":300,\"carrier_name\":\"Aetna\",\"rank\":197.59329040000003},{\"score\":1.1487982,\"plan_id\":9424,\"plan_name\":\"DC Bronze, Silver and Gold OAMC\",\"carrier_id\":300,\"carrier_name\":\"Aetna\",\"rank\":196.4444922},{\"score\":1.1487982,\"plan_id\":15041,\"plan_name\":\"Bronze HNOption\",\"carrier_id\":300,\"carrier_name\":\"Aetna\",\"rank\":106.83823260000001},{\"score\":1.1487982,\"plan_id\":13612,\"plan_name\":\"Freedom 10\",\"carrier_id\":300,\"carrier_name\":\"Aetna\",\"rank\":86.15986500000001},{\"score\":1.1487982,\"plan_id\":15040,\"plan_name\":\"Gold HNOption\",\"carrier_id\":300,\"carrier_name\":\"Aetna\",\"rank\":81.5646722},{\"score\":1.1487982,\"plan_id\":3820,\"plan_name\":\"Aexcel Plus Elect Choice EPO\",\"carrier_id\":300,\"carrier_name\":\"Aetna\",\"rank\":74.67188300000001},{\"score\":1.1487982,\"plan_id\":13613,\"plan_name\":\"Freedom 15\",\"carrier_id\":300,\"carrier_name\":\"Aetna\",\"rank\":73.5230848},{\"score\":1.1487982,\"plan_id\":3822,\"plan_name\":\"Aexcel Plus Managed Choice POS\",\"carrier_id\":300,\"carrier_name\":\"Aetna\",\"rank\":70.0766902},{\"score\":3.4145176,\"plan_id\":5239,\"plan_name\":\"Aetna Whole Health/Attribution\",\"carrier_id\":717,\"carrier_name\":\"Banner Health\",\"rank\":68.290352},{\"score\":3.4145176,\"plan_id\":5466,\"plan_name\":\"Aetna Better Health (Medicaid)\",\"carrier_id\":774,\"carrier_name\":\"March Vision Care\",\"rank\":64.8758344},{\"score\":1.1487982,\"plan_id\":9423,\"plan_name\":\"DC Bronze, Silver and Gold HNOnly\",\"carrier_id\":300,\"carrier_name\":\"Aetna\",\"rank\":59.73750640000001},{\"score\":1.1487982,\"plan_id\":3825,\"plan_name\":\"Aexcel Plus Open Access Elect Choice ( HealthFund)\",\"carrier_id\":300,\"carrier_name\":\"Aetna\",\"rank\":52.844717200000005},{\"score\":1.1487982,\"plan_id\":11240,\"plan_name\":\"AZ  Whole Health - Arizona Care Network\",\"carrier_id\":300,\"carrier_name\":\"Aetna\",\"rank\":50.5471208},{\"score\":1.1487982,\"plan_id\":12442,\"plan_name\":\"AK Silver $10 Copay PD\",\"carrier_id\":300,\"carrier_name\":\"Aetna\",\"rank\":35.6127442},{\"score\":1.1487982,\"plan_id\":13616,\"plan_name\":\"Freedom 2035\",\"carrier_id\":300,\"carrier_name\":\"Aetna\",\"rank\":25.2735604},{\"score\":1.1487982,\"plan_id\":12439,\"plan_name\":\"AK Bronze $20 Copay PD\",\"carrier_id\":300,\"carrier_name\":\"Aetna\",\"rank\":21.827165800000003},{\"score\":1.1487982,\"plan_id\":15002,\"plan_name\":\"AZ  Leap - Banner Health Network\",\"carrier_id\":300,\"carrier_name\":\"Aetna\",\"rank\":21.827165800000003},{\"score\":1.1487982,\"plan_id\":13615,\"plan_name\":\"Freedom 2030\",\"carrier_id\":300,\"carrier_name\":\"Aetna\",\"rank\":16.083174800000002},{\"score\":1.1487982,\"plan_id\":16105,\"plan_name\":\"Leap Basic - Banner\",\"carrier_id\":300,\"carrier_name\":\"Aetna\",\"rank\":16.083174800000002},{\"score\":1.1487982,\"plan_id\":12444,\"plan_name\":\"AZ Banner Health Network Bronze $20 Copay PD\",\"carrier_id\":300,\"carrier_name\":\"Aetna\",\"rank\":16.083174800000002},{\"score\":1.1487982,\"plan_id\":12440,\"plan_name\":\"AK Bronze Ded. Only HSA PD\",\"carrier_id\":300,\"carrier_name\":\"Aetna\",\"rank\":13.785578400000002},{\"score\":1.1487982,\"plan_id\":13614,\"plan_name\":\"Freedom 1525\",\"carrier_id\":300,\"carrier_name\":\"Aetna\",\"rank\":10.3391838},{\"score\":1.1487982,\"plan_id\":12448,\"plan_name\":\"AZ Banner Health Network Silver $10 Copay PD\",\"carrier_id\":300,\"carrier_name\":\"Aetna\",\"rank\":10.3391838},{\"score\":2.5718453,\"plan_id\":12423,\"plan_name\":\"Aetna Better Health of New Jersey\",\"carrier_id\":774,\"carrier_name\":\"March Vision Care\",\"rank\":7.715535900000001},{\"score\":1.1487982,\"plan_id\":12443,\"plan_name\":\"AK Silver $5 Copay 2750 PD\",\"carrier_id\":300,\"carrier_name\":\"Aetna\",\"rank\":6.892789200000001},{\"score\":1.1487982,\"plan_id\":12445,\"plan_name\":\"AZ Banner Health Network Bronze HSA PD\",\"carrier_id\":300,\"carrier_name\":\"Aetna\",\"rank\":6.892789200000001},{\"score\":5.9189205,\"plan_id\":null,\"plan_name\":null,\"carrier_id\":1462,\"carrier_name\":\"Texas Health Aetna\",\"rank\":5.9189205},{\"score\":1.1487982,\"plan_id\":12447,\"plan_name\":\"AZ Banner Health Network Gold $5 Copay PD\",\"carrier_id\":300,\"carrier_name\":\"Aetna\",\"rank\":5.743991},{\"score\":1.1487982,\"plan_id\":9419,\"plan_name\":\"AZ Marketplace:  Advantage 5750 PD\",\"carrier_id\":300,\"carrier_name\":\"Aetna\",\"rank\":5.743991},{\"score\":1.1487982,\"plan_id\":9417,\"plan_name\":\"AZ Marketplace: Banner Health Network Catastrophic 100%\",\"carrier_id\":300,\"carrier_name\":\"Aetna\",\"rank\":4.5951928},{\"score\":1.1487982,\"plan_id\":9420,\"plan_name\":\"AZ Marketplace: Banner Health Network Gold $5 Copay\",\"carrier_id\":300,\"carrier_name\":\"Aetna\",\"rank\":4.5951928},{\"score\":1.1487982,\"plan_id\":15003,\"plan_name\":\"AZ  Leap - Banner Health Network\",\"carrier_id\":300,\"carrier_name\":\"Aetna\",\"rank\":3.4463946000000005},{\"score\":1.1487982,\"plan_id\":9416,\"plan_name\":\"AZ Marketplace: Banner Health Network Bronze $20 Copay\",\"carrier_id\":300,\"carrier_name\":\"Aetna\",\"rank\":3.4463946000000005},{\"score\":1.1487982,\"plan_id\":9421,\"plan_name\":\"AZ Marketplace: Banner Health Network Silver $10 Copay\",\"carrier_id\":300,\"carrier_name\":\"Aetna\",\"rank\":3.4463946000000005},{\"score\":3.4145176,\"plan_id\":17124,\"plan_name\":\"Aetna Choice POS II\",\"carrier_id\":1488,\"carrier_name\":\"Meritain Health\",\"rank\":3.4145176},{\"score\":3.4145176,\"plan_id\":3469,\"plan_name\":\"Aetna Workers' Comp Access\",\"carrier_id\":482,\"carrier_name\":\"Hanover Insurance\",\"rank\":3.4145176},{\"score\":2.7150176,\"plan_id\":12422,\"plan_name\":\"Aetna Better Health (Medicare/Medicaid Eligibles)\",\"carrier_id\":774,\"carrier_name\":\"March Vision Care\",\"rank\":2.7150176},{\"score\":1.1487982,\"plan_id\":12441,\"plan_name\":\"AK Catastrophic 100% PD\",\"carrier_id\":300,\"carrier_name\":\"Aetna\",\"rank\":2.2975964},{\"score\":1.1487982,\"plan_id\":12446,\"plan_name\":\"AZ Banner Health Network Catastrophic 100% PD\",\"carrier_id\":300,\"carrier_name\":\"Aetna\",\"rank\":2.2975964},{\"score\":1.1487982,\"plan_id\":17096,\"plan_name\":\"Cornell Program for Healthy Living\",\"carrier_id\":300,\"carrier_name\":\"Aetna\",\"rank\":1.1487982},{\"score\":1.1487982,\"plan_id\":17097,\"plan_name\":\"Weill Cornell Medicine PPO\",\"carrier_id\":300,\"carrier_name\":\"Aetna\",\"rank\":1.1487982},{\"score\":1.1487982,\"plan_id\":17098,\"plan_name\":\"Health Savings Account\",\"carrier_id\":300,\"carrier_name\":\"Aetna\",\"rank\":1.1487982},{\"score\":1.1487982,\"plan_id\":16771,\"plan_name\":\"Leap Everyday\",\"carrier_id\":300,\"carrier_name\":\"Aetna\",\"rank\":1.1487982},{\"score\":1.1487982,\"plan_id\":16786,\"plan_name\":\"NY Tri-State EPO\",\"carrier_id\":300,\"carrier_name\":\"Aetna\",\"rank\":1.1487982},{\"score\":1.1487982,\"plan_id\":16785,\"plan_name\":\"Silver $15 Copay $5500 HNOnly\",\"carrier_id\":300,\"carrier_name\":\"Aetna\",\"rank\":1.1487982},{\"score\":1.1487982,\"plan_id\":17106,\"plan_name\":\"Whole Health - Mount Sinai Health Partners\",\"carrier_id\":300,\"carrier_name\":\"Aetna\",\"rank\":1.1487982},{\"score\":1.1487982,\"plan_id\":16606,\"plan_name\":\"AlaskaCare - Employee\",\"carrier_id\":300,\"carrier_name\":\"Aetna\",\"rank\":1.1487982},{\"score\":1.1487982,\"plan_id\":16609,\"plan_name\":\"AlaskaCare - Employee/Retiree - All Other States\",\"carrier_id\":300,\"carrier_name\":\"Aetna\",\"rank\":1.1487982},{\"score\":1.1487982,\"plan_id\":16608,\"plan_name\":\"AlaskaCare - Retiree Defined Contribution Plan\",\"carrier_id\":300,\"carrier_name\":\"Aetna\",\"rank\":1.1487982},{\"score\":1.1487982,\"plan_id\":16607,\"plan_name\":\"AlaskaCare - Retiree Legacy Plan\",\"carrier_id\":300,\"carrier_name\":\"Aetna\",\"rank\":1.1487982},{\"score\":1.1487982,\"plan_id\":16605,\"plan_name\":\"AlaskaCare Health Plans\",\"carrier_id\":300,\"carrier_name\":\"Aetna\",\"rank\":1.1487982},{\"score\":1.1487982,\"plan_id\":16995,\"plan_name\":\"Auto\",\"carrier_id\":300,\"carrier_name\":\"Aetna\",\"rank\":1.1487982},{\"score\":1.1487982,\"plan_id\":12449,\"plan_name\":\"AZ Banner Health Network Silver $5 Copay 2750 PD\",\"carrier_id\":300,\"carrier_name\":\"Aetna\",\"rank\":1.1487982}]"
      ]
     },
     "execution_count": 13,
     "metadata": {},
     "output_type": "execute_result"
    }
   ],
   "source": [
    "soup"
   ]
  },
  {
   "cell_type": "code",
   "execution_count": null,
   "metadata": {
    "collapsed": true
   },
   "outputs": [],
   "source": []
  },
  {
   "cell_type": "code",
   "execution_count": 14,
   "metadata": {},
   "outputs": [
    {
     "ename": "NameError",
     "evalue": "name 'html' is not defined",
     "output_type": "error",
     "traceback": [
      "\u001b[0;31m---------------------------------------------------------------------------\u001b[0m",
      "\u001b[0;31mNameError\u001b[0m                                 Traceback (most recent call last)",
      "\u001b[0;32m<ipython-input-14-894620277fe9>\u001b[0m in \u001b[0;36m<module>\u001b[0;34m()\u001b[0m\n\u001b[0;32m----> 1\u001b[0;31m \u001b[0;32mfor\u001b[0m \u001b[0mp\u001b[0m \u001b[0;32min\u001b[0m \u001b[0mhtml\u001b[0m\u001b[0;34m.\u001b[0m\u001b[0mselect\u001b[0m\u001b[0;34m(\u001b[0m\u001b[0;34m'p'\u001b[0m\u001b[0;34m)\u001b[0m\u001b[0;34m:\u001b[0m\u001b[0;34m\u001b[0m\u001b[0m\n\u001b[0m\u001b[1;32m      2\u001b[0m     \u001b[0;32mif\u001b[0m \u001b[0mp\u001b[0m\u001b[0;34m[\u001b[0m\u001b[0;34m'score'\u001b[0m\u001b[0;34m]\u001b[0m \u001b[0;34m==\u001b[0m \u001b[0;34m'11.732793'\u001b[0m\u001b[0;34m:\u001b[0m\u001b[0;34m\u001b[0m\u001b[0m\n\u001b[1;32m      3\u001b[0m         \u001b[0mprint\u001b[0m\u001b[0;34m(\u001b[0m\u001b[0mp\u001b[0m\u001b[0;34m.\u001b[0m\u001b[0mtext\u001b[0m\u001b[0;34m)\u001b[0m\u001b[0;34m\u001b[0m\u001b[0m\n",
      "\u001b[0;31mNameError\u001b[0m: name 'html' is not defined"
     ]
    }
   ],
   "source": [
    "for p in html.select('p'):\n",
    "    if p['score'] == '11.732793':\n",
    "        print(p.text)"
   ]
  },
  {
   "cell_type": "code",
   "execution_count": 5,
   "metadata": {
    "collapsed": true,
    "scrolled": false
   },
   "outputs": [],
   "source": [
    "insurancestr = soup.prettify() "
   ]
  },
  {
   "cell_type": "code",
   "execution_count": 8,
   "metadata": {},
   "outputs": [
    {
     "data": {
      "text/plain": [
       "str"
      ]
     },
     "execution_count": 8,
     "metadata": {},
     "output_type": "execute_result"
    }
   ],
   "source": [
    "type(insurancestr)"
   ]
  },
  {
   "cell_type": "code",
   "execution_count": null,
   "metadata": {
    "collapsed": true
   },
   "outputs": [],
   "source": []
  },
  {
   "cell_type": "code",
   "execution_count": 10,
   "metadata": {
    "collapsed": true
   },
   "outputs": [],
   "source": [
    "insurancelist_1 = insurancestr.split()"
   ]
  },
  {
   "cell_type": "code",
   "execution_count": 12,
   "metadata": {},
   "outputs": [
    {
     "data": {
      "text/plain": [
       "list"
      ]
     },
     "execution_count": 12,
     "metadata": {},
     "output_type": "execute_result"
    }
   ],
   "source": [
    "type(insurancelist_1)"
   ]
  },
  {
   "cell_type": "code",
   "execution_count": 18,
   "metadata": {
    "collapsed": true
   },
   "outputs": [],
   "source": [
    "def InsuranceLookup(insurance ,insurancelist):\n",
    "    insurance = input(\"Who is your insurance provider?\")\n",
    "    for item in seq:\n",
    "    if (item) = insurance,\n",
    "        return plan under aetna \n",
    " "
   ]
  },
  {
   "cell_type": "code",
   "execution_count": 35,
   "metadata": {},
   "outputs": [
    {
     "data": {
      "text/plain": [
       "'2750\",\"carrier_id\":300,\"carrier_name\":\"Aetna\",\"rank\":1.1398255}]'"
      ]
     },
     "execution_count": 35,
     "metadata": {},
     "output_type": "execute_result"
    }
   ],
   "source": [
    "l = insurancelist.pop()\n",
    "l\n"
   ]
  },
  {
   "cell_type": "code",
   "execution_count": 32,
   "metadata": {},
   "outputs": [
    {
     "ename": "AttributeError",
     "evalue": "'str' object has no attribute 'pop'",
     "output_type": "error",
     "traceback": [
      "\u001b[0;31m---------------------------------------------------------------------------\u001b[0m",
      "\u001b[0;31mAttributeError\u001b[0m                            Traceback (most recent call last)",
      "\u001b[0;32m<ipython-input-32-aed98dcf1c8f>\u001b[0m in \u001b[0;36m<module>\u001b[0;34m()\u001b[0m\n\u001b[1;32m      1\u001b[0m \u001b[0mnew_dict\u001b[0m \u001b[0;34m=\u001b[0m \u001b[0;34m{\u001b[0m\u001b[0;34m}\u001b[0m\u001b[0;34m\u001b[0m\u001b[0m\n\u001b[1;32m      2\u001b[0m \u001b[0;32mfor\u001b[0m \u001b[0mitem\u001b[0m \u001b[0;32min\u001b[0m \u001b[0minsurancelist\u001b[0m\u001b[0;34m:\u001b[0m\u001b[0;34m\u001b[0m\u001b[0m\n\u001b[0;32m----> 3\u001b[0;31m    \u001b[0mname\u001b[0m \u001b[0;34m=\u001b[0m \u001b[0mitem\u001b[0m\u001b[0;34m.\u001b[0m\u001b[0mpop\u001b[0m\u001b[0;34m(\u001b[0m\u001b[0;34m'Item'\u001b[0m\u001b[0;34m)\u001b[0m\u001b[0;34m\u001b[0m\u001b[0m\n\u001b[0m\u001b[1;32m      4\u001b[0m    \u001b[0mnew_dict\u001b[0m\u001b[0;34m[\u001b[0m\u001b[0mname\u001b[0m\u001b[0;34m]\u001b[0m \u001b[0;34m=\u001b[0m \u001b[0mitem\u001b[0m\u001b[0;34m\u001b[0m\u001b[0m\n",
      "\u001b[0;31mAttributeError\u001b[0m: 'str' object has no attribute 'pop'"
     ]
    }
   ],
   "source": [
    "new_dict = {}\n",
    "for item in insurancelist:\n",
    "   name = item.pop('Item')\n",
    "   new_dict[name] = item"
   ]
  },
  {
   "cell_type": "code",
   "execution_count": 2,
   "metadata": {
    "collapsed": true
   },
   "outputs": [],
   "source": [
    "def main():\n"
   ]
  },
  {
   "cell_type": "code",
   "execution_count": null,
   "metadata": {
    "collapsed": true
   },
   "outputs": [],
   "source": [
    "def length_n(file_name,n):\n",
    "    l = [] #The list to which we will add the words \n",
    "    with open(file_name, 'r') as myfile: #Using With Function that opens and closes files.\n",
    "         for line in myfile.readlines(): #Go line by line, where each line contains a word\n",
    "            if len(line) == n: #The condition\n",
    "                l.append(line.strip()) #Adding to list if condition is met\n",
    "    return l\n",
    "\n",
    "length_n('dictionary.txt',12) #Testing if any file name will work! "
   ]
  }
 ],
 "metadata": {
  "kernelspec": {
   "display_name": "Python 3",
   "language": "python",
   "name": "python3"
  },
  "language_info": {
   "codemirror_mode": {
    "name": "ipython",
    "version": 3
   },
   "file_extension": ".py",
   "mimetype": "text/x-python",
   "name": "python",
   "nbconvert_exporter": "python",
   "pygments_lexer": "ipython3",
   "version": "3.6.1"
  }
 },
 "nbformat": 4,
 "nbformat_minor": 2
}
