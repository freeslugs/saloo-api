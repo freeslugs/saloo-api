{
 "cells": [
  {
   "cell_type": "markdown",
   "metadata": {},
   "source": [
    "<h1/><center> Scraping Top 3 Insurance Plans </center></h1>\n",
    "\n",
    "1. Write a funcion that takes a string as input: Insurance provider and Plan ID\n",
    "2. Returns top 3 matching insuance plans \n",
    "\n",
    "Extension: jsonviewer"
   ]
  },
  {
   "cell_type": "code",
   "execution_count": 1,
   "metadata": {
    "collapsed": true
   },
   "outputs": [],
   "source": [
    "import bs4\n",
    "import urllib.request\n",
    "import requests\n",
    "import numpy as np\n",
    "import pandas as pd"
   ]
  },
  {
   "cell_type": "code",
   "execution_count": 2,
   "metadata": {
    "collapsed": true
   },
   "outputs": [],
   "source": [
    "loc = 'https://api.zocdoc.com/directory/v1/insurances/autocomplete?text=aetna&insurance_type=health&directory_id=-1'"
   ]
  },
  {
   "cell_type": "code",
   "execution_count": 12,
   "metadata": {},
   "outputs": [
    {
     "data": {
      "text/plain": [
       "['Choice® POS II (Open Access)',\n",
       " 'Choice POS II ( HealthFund)',\n",
       " 'Choice® POS (Open Access)']"
      ]
     },
     "execution_count": 12,
     "metadata": {},
     "output_type": "execute_result"
    }
   ],
   "source": [
    "r = requests.get(loc)\n",
    "insurance_providers = r.json()\n",
    "filtered_insurance_providers = list(filter(lambda x: x['carrier_name'] == 'Aetna' and x[\"plan_id\"] != None, insurance_providers))\n",
    "# todo: sort by \"rank\"\n",
    "df = pd.DataFrame(filtered_insurance_providers)\n",
    "plan_1 = (str(df['plan_name'].mode()).replace(\"\\ndtype: object\", \"\")).replace(\"0    \", \"\")\n",
    "top_three = filtered_insurance_providers[:3]\n",
    "plan_names = list(map(lambda x: x[\"plan_name\"], top_three))\n",
    "plan_names"
   ]
  },
  {
   "cell_type": "code",
   "execution_count": null,
   "metadata": {
    "collapsed": true
   },
   "outputs": [],
   "source": [
    "def InsuranceLookup(insurance, plan_id):\n",
    "    r = requests.get(loc)\n",
    "    insurance_providers = r.json()\n",
    "    filtered_insurance_providers = list(filter(lambda x: x['carrier_name'] == insurance and x[\"plan_id\"] != plan_id, insurance_providers))\n",
    "    # todo: sort by \"rank\"\n",
    "    top_three = filtered_insurance_providers[:3]\n",
    "    plan_names = list(map(lambda x: x[\"plan_name\"], top_three))\n",
    "    return  plan_names"
   ]
  },
  {
   "cell_type": "code",
   "execution_count": 5,
   "metadata": {},
   "outputs": [
    {
     "data": {
      "text/plain": [
       "[None, 'Choice® POS II (Open Access)', 'Choice POS II ( HealthFund)']"
      ]
     },
     "execution_count": 5,
     "metadata": {},
     "output_type": "execute_result"
    }
   ],
   "source": [
    "InsuranceLookup('Aetna', 'None')"
   ]
  },
  {
   "cell_type": "code",
   "execution_count": null,
   "metadata": {
    "collapsed": true
   },
   "outputs": [],
   "source": [
    "from collections import Counter\n",
    "data = Counter(filtered_insurance_providers)\n",
    "data.most_common()   # Returns all unique items and their counts\n",
    "data.most_common(1)"
   ]
  },
  {
   "cell_type": "markdown",
   "metadata": {},
   "source": [
    "Not sure how to deal with dictionaries in a list. \n",
    "- Above function works for lists with numbers/strings in them\n",
    "- np.argsort works for numpy arrays \n",
    "\n",
    "**@Gilad: Suggestions?**"
   ]
  }
 ],
 "metadata": {
  "kernelspec": {
   "display_name": "Python 3",
   "language": "python",
   "name": "python3"
  },
  "language_info": {
   "codemirror_mode": {
    "name": "ipython",
    "version": 3
   },
   "file_extension": ".py",
   "mimetype": "text/x-python",
   "name": "python",
   "nbconvert_exporter": "python",
   "pygments_lexer": "ipython3",
   "version": "3.6.1"
  }
 },
 "nbformat": 4,
 "nbformat_minor": 2
}
